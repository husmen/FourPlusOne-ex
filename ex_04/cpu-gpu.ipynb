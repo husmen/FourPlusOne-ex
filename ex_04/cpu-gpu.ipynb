{
 "cells": [
  {
   "cell_type": "code",
   "execution_count": 1,
   "metadata": {},
   "outputs": [],
   "source": [
    "import tensorflow as tf"
   ]
  },
  {
   "cell_type": "code",
   "execution_count": 2,
   "metadata": {},
   "outputs": [
    {
     "data": {
      "text/plain": [
       "[name: \"/device:CPU:0\"\n",
       " device_type: \"CPU\"\n",
       " memory_limit: 268435456\n",
       " locality {\n",
       " }\n",
       " incarnation: 5912943683461801601, name: \"/device:GPU:0\"\n",
       " device_type: \"GPU\"\n",
       " memory_limit: 1404633088\n",
       " locality {\n",
       "   bus_id: 1\n",
       "   links {\n",
       "   }\n",
       " }\n",
       " incarnation: 13514187560656430070\n",
       " physical_device_desc: \"device: 0, name: GeForce GTX 950M, pci bus id: 0000:01:00.0, compute capability: 5.0\"]"
      ]
     },
     "execution_count": 2,
     "metadata": {},
     "output_type": "execute_result"
    }
   ],
   "source": [
    "from tensorflow.python.client import device_lib\n",
    "device_lib.list_local_devices()"
   ]
  },
  {
   "cell_type": "code",
   "execution_count": 3,
   "metadata": {},
   "outputs": [
    {
     "data": {
      "text/plain": [
       "'/device:GPU:0'"
      ]
     },
     "execution_count": 3,
     "metadata": {},
     "output_type": "execute_result"
    }
   ],
   "source": [
    "tf.test.gpu_device_name()"
   ]
  },
  {
   "cell_type": "code",
   "execution_count": null,
   "metadata": {
    "collapsed": true
   },
   "outputs": [],
   "source": []
  }
 ],
 "metadata": {
  "anaconda-cloud": {},
  "kernelspec": {
   "display_name": "Python 2",
   "language": "python",
   "name": "python2"
  },
  "language_info": {
   "codemirror_mode": {
    "name": "ipython",
    "version": 2
   },
   "file_extension": ".py",
   "mimetype": "text/x-python",
   "name": "python",
   "nbconvert_exporter": "python",
   "pygments_lexer": "ipython2",
   "version": "2.7.14"
  },
  "widgets": {
   "state": {
    "0023078d02284da3b5f2479000db58b9": {
     "views": []
    },
    "004f4506139c4a68b5ad378610672168": {
     "views": []
    },
    "007b3f1c9d424c6aa28a56f9ffa51ae7": {
     "views": []
    },
    "00a8fc3fa05b4fee89534e18e08b46bb": {
     "views": []
    },
    "0134ae7d2b3e4f54acba8a90dfd3077b": {
     "views": []
    },
    "015c5d474b2f4446b3d9fe8edee8fdf4": {
     "views": []
    },
    "0231bab93bb04d5fad55eb26287e92da": {
     "views": []
    },
    "0235850c285f4eaca744e020247206f5": {
     "views": []
    },
    "02457b62543349a39d4009b762025710": {
     "views": []
    },
    "025c0deb2574457dae18f37f1ea82dc5": {
     "views": []
    },
    "0261e4a8192a43cdadb9c90d9ac40852": {
     "views": []
    },
    "0289b78c88cc4519a7bd8840cae4b171": {
     "views": []
    },
    "02c9e2aa96014c508b5a444b25e3b6de": {
     "views": []
    },
    "037a9b623abf46f29cb3d3c7eeab4d98": {
     "views": []
    },
    "0537945bc9d44e498372b7917ebb7e6c": {
     "views": []
    },
    "05fe302f3ba645528797e5bc8d2b3b8a": {
     "views": []
    },
    "0683826e685941338e653d8730fbb7fe": {
     "views": []
    },
    "06bab40dfb334ff094281d1613146066": {
     "views": []
    },
    "073fecf6457c4fbab680b905d626fa72": {
     "views": []
    },
    "07e353e38d7b4d138d74c5c37b60fc65": {
     "views": []
    },
    "07e9d36b529647d2bdabf794a5158c1d": {
     "views": [
      {
       "cell_index": 44
      }
     ]
    },
    "07f7274b63234f5fa9fa9a678c8b38f1": {
     "views": []
    },
    "086dc374a25547e2a6582f33c50ca497": {
     "views": []
    },
    "088a949b22444f558680403c4ab5b41a": {
     "views": []
    },
    "08e8c0feb0f34449a90dd729f636ea69": {
     "views": []
    },
    "08e8f3db251943028f924f8ae5dacbb8": {
     "views": []
    },
    "08f1b096618b43479db1fc0afd6dd77a": {
     "views": []
    },
    "097a3d0ef8e04a38988a6b0231cb562f": {
     "views": []
    },
    "09fc27f42f8e4db4a1ebda11ff1c2d6f": {
     "views": []
    },
    "0a004953df614ab6b0f3dcf874288393": {
     "views": []
    },
    "0a0f35ba849c4e9b9b14025fe247a736": {
     "views": []
    },
    "0ab4904a29cb4b1a9dec96a575657aa0": {
     "views": []
    },
    "0ac973b1ac7b48bfb92b4c08b9bc37ff": {
     "views": []
    },
    "0b3e34f8479b4ec98813e8424994fd0f": {
     "views": []
    },
    "0b5884fee8904b0b8d3b4eb3f72cb88f": {
     "views": []
    },
    "0c06257aad4b4247ad449cc7d454fcf4": {
     "views": []
    },
    "0c06ac8156ba450aa0f6f60d001f34b4": {
     "views": []
    },
    "0c609e6bc69e4079b8554bb3be1e1cdb": {
     "views": []
    },
    "0c705c20aa8140baadae0347d3ff3a4b": {
     "views": []
    },
    "0c7680e98d454f03bad4505b8e22bbc3": {
     "views": []
    },
    "0c93e99ebd304e9abee1e7103ac539a6": {
     "views": []
    },
    "0d305f7c198c492eb04bc27094a68049": {
     "views": []
    },
    "0d45b54dc4cf4cc5b44e5f0edf2ad533": {
     "views": []
    },
    "0d7a4270d29e45b791defe13c28aad7b": {
     "views": []
    },
    "0da3f83f1eed47f381bd0a3c4b2f5dbf": {
     "views": []
    },
    "0dfbb9072520401f94ff2143bcd7277d": {
     "views": []
    },
    "0e31ca75065247e19d330b49e666cfe4": {
     "views": []
    },
    "0e6fb1e649834c108c3b70a5c4bd1924": {
     "views": []
    },
    "0ef6c3e80baa4f678a974471d9a3130f": {
     "views": []
    },
    "0f6efb618df64c4eac98665dfde9b688": {
     "views": []
    },
    "0f9a685146f14ad6a4c5279b04fa0794": {
     "views": []
    },
    "0fa376074b244baf808c236b098af4f6": {
     "views": []
    },
    "100e7bb9b4e24bb7800f3d87031e9ed3": {
     "views": []
    },
    "103a9088ec10453e948ca066b318eff7": {
     "views": []
    },
    "10459306c43c4d418413c6fda665edde": {
     "views": []
    },
    "105a26d8e2ef4a93b5db6c3b25b4250e": {
     "views": []
    },
    "10865bcb566147b18abb90dc6a0009c9": {
     "views": [
      {
       "cell_index": 22
      }
     ]
    },
    "10f3ad670ce44f25ac3dbc4155242439": {
     "views": []
    },
    "11574b898bf54dac9b82c78b776d3146": {
     "views": []
    },
    "120e9d757bb24387a335673be48e99dc": {
     "views": []
    },
    "137cd73c0df24d24a7aa8618a84d7e0c": {
     "views": []
    },
    "13e9ae1fa8d94eb482a30c16f3c2162f": {
     "views": []
    },
    "141611541c884f2680f86e93c1450f0c": {
     "views": []
    },
    "1433c78c33714ce18307d886a895248c": {
     "views": []
    },
    "144f38d9052d492199df441d830173dc": {
     "views": []
    },
    "14ce76c3b85f4e99b6543a54d88f7e2f": {
     "views": []
    },
    "158c91be0ecc4b0da1b46cfea5b70d69": {
     "views": []
    },
    "15943ce225a64a649a805128badebab5": {
     "views": []
    },
    "15ada0c61b464dc68c331ab5f123f6bd": {
     "views": []
    },
    "15d07ed8ced6465dbd0fbe88e43b1077": {
     "views": []
    },
    "15e2bfdbafbb466093e7190a29ed2820": {
     "views": []
    },
    "160f17485f2849d59eb59d0018ef5a75": {
     "views": []
    },
    "16474f1d9d544a15afa4399ed69523d7": {
     "views": []
    },
    "1699cd9985fd4ca0961f116968ecfc15": {
     "views": []
    },
    "16e42483e9014031905f4ce1ca3e6b2b": {
     "views": []
    },
    "1811e8bd86a44ba9aa211b662f5d24c2": {
     "views": []
    },
    "181ce4ddd3bb4f13ad17b34b86b7f17e": {
     "views": []
    },
    "183f560387e0477f83c7c49d31b75017": {
     "views": []
    },
    "195cc144978a4d91a0b2683dc1668da1": {
     "views": []
    },
    "195f929445cb47aa82c25722be3b61e8": {
     "views": []
    },
    "199bf665209648ca9d0310fba97a871c": {
     "views": []
    },
    "19f34b560a3248f7a1e0e316778e3dd6": {
     "views": []
    },
    "1a105b536ece4fefaa7dfeae10c0c5b1": {
     "views": []
    },
    "1b2e75332fd74c4f9728f7abcbe9de80": {
     "views": []
    },
    "1b45764a101c444db1a968954e42f70c": {
     "views": []
    },
    "1b48a9fc97d54dfba67e6113fbac7ef0": {
     "views": []
    },
    "1c6d5be56a0f41cf80c701c36d4ab06e": {
     "views": []
    },
    "1cbf23e656c542eea1c3619b67bfaa5b": {
     "views": []
    },
    "1cf32cd0d15d4515aaf19d81b7f986b4": {
     "views": []
    },
    "1d09c8cc93794aa0a8fe046549f122cc": {
     "views": []
    },
    "1d74abd665c74a1b91a163312a5d7232": {
     "views": []
    },
    "1dbfa54ac4c845519914c58758de6dc0": {
     "views": []
    },
    "1dea4f6b0d5d4a11bf9179c0895e7794": {
     "views": []
    },
    "1e6b4727d2cf4ec997447ec41190ecf3": {
     "views": []
    },
    "1eafe4687ded444bb1f2d168f5741618": {
     "views": []
    },
    "1f4879d9db80462896cc14f8757edc3d": {
     "views": []
    },
    "1f721cb39b754e6a9775e54e3a139819": {
     "views": []
    },
    "1f9a2698f7684d8cbd0e17b1a78c1e4e": {
     "views": []
    },
    "1fa0d56214fa4d4eb25f784bcd60b459": {
     "views": []
    },
    "1fb9afdb025b4fd69651c6b57e4b22b3": {
     "views": []
    },
    "20b0f9cf7bd24c75a2539708f0263c24": {
     "views": []
    },
    "20d665fe84a7474daafaf2d81678fbb5": {
     "views": []
    },
    "20dac92e160744bf936dd60816e6f6f9": {
     "views": []
    },
    "21042bdd93d74e8c8bad9feecd2b73cd": {
     "views": []
    },
    "21170ce36a464a19a1195d30e372df9d": {
     "views": []
    },
    "2136e175dbda4399ae927ba04d49cd97": {
     "views": []
    },
    "21497211435145f5b0cc561e9d3bbf3b": {
     "views": [
      {
       "cell_index": 32
      }
     ]
    },
    "220fef21823c49f2b13a4b44eae68ce5": {
     "views": []
    },
    "235956363db34b5c8c128aaeb41f7c9c": {
     "views": []
    },
    "240a0c0024304ddab843645fbf9861d9": {
     "views": []
    },
    "24538848d7d34baa8bab493ef7d19506": {
     "views": []
    },
    "24e71159773440b4ac491dfea9aeb4a5": {
     "views": []
    },
    "25142eb46f234c2688fc2cd581197f64": {
     "views": []
    },
    "253b213b995845318bfed3089c249ea4": {
     "views": []
    },
    "25728417154b43778e8cb9931d583203": {
     "views": []
    },
    "25c142ded2c84d8e924a94542c629fe1": {
     "views": []
    },
    "25fd36231363425ea37d18bd65b1c15c": {
     "views": []
    },
    "268c5a91095140e1b7910bb889436d21": {
     "views": []
    },
    "2701ea537e2f447699986d2f798618dd": {
     "views": []
    },
    "271614eb0a224c79b24309a82ec0bb0b": {
     "views": []
    },
    "275cb4f620e14fd6ab237d60560826e6": {
     "views": []
    },
    "27601d828cf7441ca19dd1f3f4b4a257": {
     "views": []
    },
    "277147957d734c83a31f4b9bce58320e": {
     "views": []
    },
    "27aed67528864508b348f333ea6dc0ae": {
     "views": []
    },
    "27b2aabb4adc4734a3b7fa80178e8d2d": {
     "views": []
    },
    "28abe3754f624b45a4179bf485b90766": {
     "views": []
    },
    "297c43741052413fbd525ea2edb3c68e": {
     "views": []
    },
    "29e39dbcc54e4114ac9319bcb8739b68": {
     "views": []
    },
    "2b07532d302c4953846c9adbfdc740e9": {
     "views": []
    },
    "2b9924ec9174437c934c640f33aa990e": {
     "views": []
    },
    "2bb8a246e0a54009b98d0c35fdc008f1": {
     "views": []
    },
    "2c3ad680cd394f8fa00e9dfe2d7e5e1d": {
     "views": []
    },
    "2c6afd1334be44b3a325b7ae7005848d": {
     "views": []
    },
    "2c9856f7697e4a449b64d69f1c185e37": {
     "views": []
    },
    "2e2b0f5a9c2f4e1db8def6f8851f5fe2": {
     "views": []
    },
    "2e49412c3e6048adb97d94b362c42b52": {
     "views": []
    },
    "2e73b795a5e34dc4a6087594acc412dc": {
     "views": []
    },
    "2e81d0a1e87d4007bd8abc477a182ecc": {
     "views": []
    },
    "2edd761c524a46bcaba506e204966a1d": {
     "views": []
    },
    "2f8f8a75d0ba48cdb21f5fd7bd269b58": {
     "views": []
    },
    "3002276c17824aa78c84a4d07319e4fc": {
     "views": []
    },
    "313e9e2cd13c4e67abc333a17a5886eb": {
     "views": []
    },
    "31cac281e371456c904442c72b9a8ecb": {
     "views": []
    },
    "327001f19cd04c7bb57d0eaab9dffee4": {
     "views": []
    },
    "32fbbcb000204799808f04685d743800": {
     "views": []
    },
    "332265bd6ba6465eab992bd69791e0ec": {
     "views": []
    },
    "337ff3765ca34dba97c521c603e4e573": {
     "views": []
    },
    "33dc8d69b1a44b4993db7f4b3e97f898": {
     "views": []
    },
    "33f6ed708e234092a096247cd67a31ab": {
     "views": []
    },
    "347b71e3bb8345c989d69db31b995958": {
     "views": []
    },
    "347ed34ce718496986e66ff336d5d821": {
     "views": []
    },
    "34d3967337d6473d818928dea73c6e36": {
     "views": []
    },
    "354805598478453883a65570496177e3": {
     "views": []
    },
    "35aadd214bde480e979ff01c85e6308d": {
     "views": [
      {
       "cell_index": 40
      }
     ]
    },
    "369b327772a14e93a99a6577f4d0dc1e": {
     "views": []
    },
    "37a21568b75b4892934ba713f6717841": {
     "views": []
    },
    "37ddad886d904b859d61b4fe8b7bb914": {
     "views": []
    },
    "38fdde758b8d4e4cba6036e2b53aff73": {
     "views": []
    },
    "3a2cf7bcb753418083eb0c961d9f4dc7": {
     "views": []
    },
    "3ab6b2a0a5d244cf8e4c137897bc047d": {
     "views": []
    },
    "3b1068ea3a4f444696e051b368d5abdd": {
     "views": []
    },
    "3b126d4caa4e491c879ff0205be46393": {
     "views": []
    },
    "3bd240624ffa48afbc7b44c43b1e8d7e": {
     "views": []
    },
    "3c94cd9bade2478bacbf73ffc5ff3ffe": {
     "views": []
    },
    "3cb7f992acbd43ec95eb3966243923f3": {
     "views": []
    },
    "3ced042317b74520b6352a67199daf68": {
     "views": []
    },
    "3d281e507a864d08ad0a6ec6b33c37cb": {
     "views": []
    },
    "3d80ff5b95ca494bbb65e040e77e1051": {
     "views": []
    },
    "3e08ab3cf2554687835ff8f62aa9ffd8": {
     "views": []
    },
    "3e1799d996e54a4a8df0d7921d241da7": {
     "views": []
    },
    "3e555bca4a9a4dedb4273595dd7b93ab": {
     "views": []
    },
    "3ee3761fbd4540e680f96cbbe2b32d29": {
     "views": []
    },
    "3f9c272d98f74329a40557c684a09ab9": {
     "views": []
    },
    "3fd9637ccb5b432e8e4d59b1e1b49c2d": {
     "views": []
    },
    "40013d9c96a340cfb44304cbe39912e4": {
     "views": []
    },
    "40148b648f3147a189091049c521e592": {
     "views": []
    },
    "4063da83b9e645ed831eeeb707f6f1d3": {
     "views": []
    },
    "40864cf8469c4c22b90e6c50281cc470": {
     "views": []
    },
    "4138d454378345858e1f14a9dbd50f2f": {
     "views": []
    },
    "42fdb68cc57741b096691fec63acb8be": {
     "views": []
    },
    "44b8be34e7164982b7f4a38dbbac6756": {
     "views": []
    },
    "44bc3ceabb154f5f85617663dee91e92": {
     "views": []
    },
    "453401fdda504a0ebe0f06a20c0d3632": {
     "views": []
    },
    "459c19ffcc63483ebb11f62808373d2f": {
     "views": [
      {
       "cell_index": 36
      }
     ]
    },
    "46f80c100c304cdc907b2f3fad3b3757": {
     "views": []
    },
    "46fb93ae5dd544df9781a3054c472ef0": {
     "views": []
    },
    "4753512cd2f04ba4bf191d7b60b5c2a0": {
     "views": []
    },
    "476a2cc0e6a94d7cbb91d8d1d2223c2e": {
     "views": []
    },
    "47f0b3ef8a4b4e55bad5ec314af45d2b": {
     "views": []
    },
    "485712ebd3c044959fdd3e39536166a2": {
     "views": []
    },
    "49ba72dfe65c4b219f67c51467c0eeda": {
     "views": []
    },
    "4a0323cc849f4f5aa48ba184b80d0504": {
     "views": []
    },
    "4ac1d8eb103e4260a92f1a239576eca4": {
     "views": []
    },
    "4adbd8899f7f4c1f8a8e865825abd425": {
     "views": []
    },
    "4b0351ade0a04e6db0d0f83b30eb8d59": {
     "views": []
    },
    "4b463047705443d1a7469d8a8fb117f1": {
     "views": []
    },
    "4b9c10540e4246b9b1c9948dc787193e": {
     "views": []
    },
    "4bcb87b8576042b19d557412c16f54c0": {
     "views": []
    },
    "4bea28823f2f4c77bd8f2dbc117f9b48": {
     "views": []
    },
    "4d0fd53271a3423f95e438823f9051a6": {
     "views": []
    },
    "4d7a23b9d6c24954bf93552f06197025": {
     "views": []
    },
    "4dd2406c287346509c10e6239f8563f6": {
     "views": []
    },
    "4ed778a389a14718afbe0f9accd0b92b": {
     "views": []
    },
    "4ef22624e25143448358503ea2d0c51e": {
     "views": []
    },
    "4f49c0cf20fc4759acf8605cd0262565": {
     "views": []
    },
    "4f8e670791984b0aa80cf74544dd6932": {
     "views": []
    },
    "50e4923cd2814762ae44c0d30aebf939": {
     "views": []
    },
    "50ea1e4dbc6a471d9c2def40f5e00806": {
     "views": []
    },
    "5148287daf594e19a3cfc0641b8e40a9": {
     "views": []
    },
    "514d8d2c09ea4bbfafda38ea674c1dbe": {
     "views": []
    },
    "514deaa553224449b2481c1c55d6db07": {
     "views": []
    },
    "5185fe8b059f4e9f804efe4d772bfdbc": {
     "views": []
    },
    "51c2c67dbb4c463b847fb4b9b15c26e0": {
     "views": []
    },
    "51d46c31a6314d55bfcc1fa46a064c04": {
     "views": []
    },
    "51dda8e092bd44a8b22314e388d7ee46": {
     "views": []
    },
    "52da4a74a5c34d35875270e0a8bf6490": {
     "views": []
    },
    "532e807cfc4a4627a2a57f99622ff4b3": {
     "views": []
    },
    "538ae815bfb24d2b8ed7f39b34329cf4": {
     "views": []
    },
    "5394cf8b84314e83b0273fecf0618ea7": {
     "views": []
    },
    "53a2d31e2d3a45f38b8d8da8711f230b": {
     "views": []
    },
    "53aed53b0a414b6197f910bc1f8a77ca": {
     "views": []
    },
    "5475351d331f45c29ba0881bb44da2f9": {
     "views": []
    },
    "54b8079b6e9945e0bf5a9e265face5f4": {
     "views": []
    },
    "54d40e6096c641e8b632b9583b2a096d": {
     "views": []
    },
    "54fecb6174ad4d34833355e01a50af74": {
     "views": []
    },
    "555cecb1fdf543ce8d2d0704295dda31": {
     "views": []
    },
    "556eb366597244859ce3b63c42b4d1ca": {
     "views": []
    },
    "55821cda41bc4a809b1dce5a25f4a941": {
     "views": []
    },
    "55ee38b2a6e4486ea86c4917c6d80c70": {
     "views": []
    },
    "567af63a4c7d4d16b44d583b2ab0b2d0": {
     "views": []
    },
    "568bc7ea4b184ae284f04631932be886": {
     "views": []
    },
    "5717dae3b09e44cc979ca0da0f6d2648": {
     "views": []
    },
    "579ed1b8c78a4b0a94029cc79496410b": {
     "views": []
    },
    "5804ffd853c541639a413f7612d6f105": {
     "views": []
    },
    "5847654f5d834567a318b625ab4e7709": {
     "views": []
    },
    "588db97e9d384938be729c736af881b2": {
     "views": []
    },
    "589252fbfd6b4b51a32ddc005744c7a6": {
     "views": []
    },
    "59029d6fe51041c5889b19fd5c66a041": {
     "views": []
    },
    "5945ddbc8d49454f83c92647d7559cfb": {
     "views": []
    },
    "598337c056f54238bc967cc6464479eb": {
     "views": []
    },
    "59fd6077289843bda10fc4391a611cb8": {
     "views": []
    },
    "5a6938f1f0a44608a5e7816e8ad7a38b": {
     "views": []
    },
    "5a9d03f9177a46a08c677dfcaed6cbcd": {
     "views": []
    },
    "5ad36437194a4893b7258579c452fcfe": {
     "views": []
    },
    "5c4e6b341975491c83b4ef5aa18e0960": {
     "views": []
    },
    "5c4ed9cddf0b4d10bdf0bc368dd22678": {
     "views": []
    },
    "5c53e831e5a745c1a627f588fe681396": {
     "views": []
    },
    "5c5f0e7a97bf4fd3a907517cf8ce1787": {
     "views": []
    },
    "5d010979443442178a922aa6929031ba": {
     "views": []
    },
    "5d26175179804275ac02a36aeb4fb328": {
     "views": []
    },
    "5dccdde84c994d47855a08bca64d0c9b": {
     "views": []
    },
    "5ebd00b7255045debd50adc61e10af17": {
     "views": []
    },
    "5ecc5ae1f39841bc862978337fea1dd2": {
     "views": []
    },
    "5f46227a7f584be4bc66347f577b3342": {
     "views": []
    },
    "5fedbff2438a48cf95ca86762b40d1c0": {
     "views": []
    },
    "60876f52db184b4784193baedf9e557b": {
     "views": []
    },
    "611492535f654b4e8a2ab99adc6b8aa3": {
     "views": []
    },
    "619a26f2bb3345298de070501c07536b": {
     "views": []
    },
    "61d1050b0f744df6a2647ad4f0cff8ce": {
     "views": []
    },
    "62585ed713564930ba4160c0e2361378": {
     "views": []
    },
    "626a2f4b5239478386f992a130b87110": {
     "views": []
    },
    "6301154fe1734a06aa563e6af1a3d141": {
     "views": []
    },
    "6331a1e6497a4f798cc20f71f057a4c5": {
     "views": []
    },
    "637207d021c54b7b814b21e08469a99d": {
     "views": []
    },
    "6372b50d5a834b0a801732c6367818ce": {
     "views": []
    },
    "63760719fbc54310b509eecfc4be6c7b": {
     "views": []
    },
    "6378b80809214147b581151c41efd14f": {
     "views": []
    },
    "639e223c5f2f4e51966905686e20820e": {
     "views": []
    },
    "63fb7f99943448b4924e53bb8e3fb9a2": {
     "views": []
    },
    "64c9c5e16f7a431c845366f1487d96c1": {
     "views": []
    },
    "653854dd89054e8088e8f6619459a294": {
     "views": []
    },
    "65be1d58f107444f92fa3fc38cf834aa": {
     "views": []
    },
    "65d705fa3fc04d7283c0084aedb97af7": {
     "views": []
    },
    "6612f5835d6245a3813dea7814f649ec": {
     "views": []
    },
    "667073d710b14dc6a2842712c7173c4c": {
     "views": []
    },
    "6689375068304559b02c12b479a8baf5": {
     "views": []
    },
    "66c19782c201424caccb4503e7509856": {
     "views": []
    },
    "66da2105a0c64a3e95726fde2e6e6f25": {
     "views": []
    },
    "66dfdbc803c84473a4d7e12352c51043": {
     "views": []
    },
    "67502a3b0ad9459784f448b4213f64e1": {
     "views": []
    },
    "678b8c309e6944e9b300c29903f8df2a": {
     "views": []
    },
    "68b89a23b7254ecfa2c6b6ee30683375": {
     "views": []
    },
    "69107e4492ed4e49adcc0e7a242fc027": {
     "views": []
    },
    "69150eacbbb64bd4a34eea83eed0f105": {
     "views": []
    },
    "6a2f6241c1f44298a5d16526a0253943": {
     "views": []
    },
    "6a53f128b3704ea989ac13e7f2f7ce3d": {
     "views": []
    },
    "6a7644e565624264a29d4400aa6a95ec": {
     "views": []
    },
    "6a8008c332e34cd2931d33df795e3f13": {
     "views": []
    },
    "6b4d47ca8fa640f4ad566937655d585e": {
     "views": []
    },
    "6cd89a73f306491dbb460ddacfd2906d": {
     "views": []
    },
    "6cffebc7d598436e8354b80add36635a": {
     "views": []
    },
    "6d5de9731a8d478a96cfbe37c1cc169a": {
     "views": []
    },
    "6df1dadec617413da72f12704a847418": {
     "views": []
    },
    "6e14140c2e9b43f5adbd76b0c98e28db": {
     "views": []
    },
    "6e4af132481d4594ac4ea73c3482856f": {
     "views": []
    },
    "6f0ad3c4bd99481a8a28a7e40e0a306c": {
     "views": []
    },
    "6f213fd796c74958a67a3ad2f5b17b03": {
     "views": []
    },
    "6fd16a1824044cdbac3c90374b9862ff": {
     "views": []
    },
    "703d008385e04d5ea6d358b8e4e7f4c2": {
     "views": []
    },
    "70e969b56a93489fb8a4b47ec7ba2d31": {
     "views": []
    },
    "719400f13b0d43ccb47fad01995ffa05": {
     "views": []
    },
    "724fe58294254776807811576ab6165e": {
     "views": []
    },
    "7298c918448c4d169576cf251c90ab04": {
     "views": []
    },
    "72bba3a14e3141d3b631b30e0b872df2": {
     "views": []
    },
    "72e6e72dccdb4992b487c9a3e3f132da": {
     "views": []
    },
    "73762af2d9a74ee9b62d94918ce5b5c2": {
     "views": []
    },
    "73c9943accda45f9a1931cd75f15c55a": {
     "views": []
    },
    "755079c7c461403ab7fbc1a329fa86e3": {
     "views": []
    },
    "75e16b0b704b4c80a62ea701ef979ebc": {
     "views": []
    },
    "75f60596420d42b58753a26f9a3e2786": {
     "views": []
    },
    "761db0a1deef4d2297c7ddd4356e4a01": {
     "views": []
    },
    "768d7918fd264cc2adfb4df8edf767e0": {
     "views": []
    },
    "76918c07f1f84b7cb5697f9c7e34837a": {
     "views": []
    },
    "76a692e3c95d49dfb20e64608533ee7d": {
     "views": []
    },
    "77037704d9f445ff94942200c7547f86": {
     "views": []
    },
    "77e14589b6754b5eb5b836a59c3749f2": {
     "views": [
      {
       "cell_index": 26
      }
     ]
    },
    "78f6bec7b4f840fa975c3a9455855b97": {
     "views": []
    },
    "792b2ec3181a4ef194aa1c7b0c590a28": {
     "views": []
    },
    "7a63807c41d349d7b069bd4667173df2": {
     "views": []
    },
    "7afab25b2b5e4118b50747eb4414f02e": {
     "views": []
    },
    "7b1add77cff845c09655c42441efdb2c": {
     "views": []
    },
    "7b7482cf68204c5d960f7540333c6cc0": {
     "views": []
    },
    "7b798a5483ea4700859eaa5156e72a24": {
     "views": []
    },
    "7b8585f0825749fca1809ff310142c1a": {
     "views": []
    },
    "7b89363e8b704374b7bde52eb1c0bde2": {
     "views": []
    },
    "7c927e23a74147e1aaac3a21affd4ebe": {
     "views": []
    },
    "7d4586ddd82747248ee10f28d099d182": {
     "views": []
    },
    "7d565fd9dd3142c0b7fde67d8dd7e3a2": {
     "views": []
    },
    "7e5c3e6df5e74816b5cc48b4e89259f1": {
     "views": []
    },
    "7ee5e83f05c1435981fc938fcdc111b9": {
     "views": []
    },
    "7f9d9a0a71584a3b82132142130a3cbd": {
     "views": []
    },
    "7fed0cd515cd41d1bbcf1264b422d516": {
     "views": []
    },
    "80cdadc639404bb6a3f999d372f1d0c8": {
     "views": []
    },
    "80fe040ce4fc4935a474107a6ef7269c": {
     "views": []
    },
    "81ca6e1b27964c5eb4ae97301796b033": {
     "views": []
    },
    "8298d2c927a742cca13bbf2c81e7d029": {
     "views": []
    },
    "82f49c62356a46af821510ddbcd505ef": {
     "views": []
    },
    "832595ad39c64cb59bb998a962443d63": {
     "views": []
    },
    "83448fe62af14de6b2667d74b9757a54": {
     "views": []
    },
    "83daf5d34f894c8a90c2043a5e9dc255": {
     "views": []
    },
    "83e46dea892c4e40ba3bf76b01564aed": {
     "views": []
    },
    "83ef0467353645e09548b614bbb7f629": {
     "views": []
    },
    "844d0b78b96c470c8ee91dc9dddc4e9f": {
     "views": []
    },
    "8457f286e4fb43ffb6de02b85c09442e": {
     "views": []
    },
    "847480a0299946cfb0b7728771cf8798": {
     "views": []
    },
    "84c8848ef2894dde96a32c7bb6c06d65": {
     "views": []
    },
    "851ce976fb994b7cb05810bc277fcb9f": {
     "views": []
    },
    "853a13da97db4e8c81120b0a71147210": {
     "views": []
    },
    "85ab4a7be36f42f3b6bb7029517f1d6a": {
     "views": []
    },
    "85b78b3798af4ad0af7c389e3062d688": {
     "views": []
    },
    "87ea1de683cc471fbd145a63b4bc5129": {
     "views": []
    },
    "881ee713c6134e288560f3e0cfa132be": {
     "views": []
    },
    "885e2981e92d4c0fa35425354db50152": {
     "views": []
    },
    "891d361227ae4d6e8202b27b904da29b": {
     "views": []
    },
    "8959c8fa12d4400586d5506996a69bc2": {
     "views": []
    },
    "8a4729b2917343b9aae4c503cc9b947c": {
     "views": []
    },
    "8aca4efcf62f455e8c309ab2a578d984": {
     "views": []
    },
    "8acfed31733f41b8a8b018f3795fe7f4": {
     "views": []
    },
    "8b55d827400a47bb823066374859bafe": {
     "views": []
    },
    "8b5e6b2e353f420e9b62ffed867f8043": {
     "views": []
    },
    "8ba11f11320748fa8832952e6baebad4": {
     "views": []
    },
    "8bb80fed2ba0460ba0e6882523b98c5f": {
     "views": []
    },
    "8c038f7cf68349ca9be1c492c27b8c25": {
     "views": []
    },
    "8c317e85cdd44ad3898354e21e5065f3": {
     "views": []
    },
    "8ce73705b8ba4dd0919e42780a22afb5": {
     "views": []
    },
    "8d14fcde4cec4298be2095c919a52cd9": {
     "views": []
    },
    "8d47ed830f3c494aa1323e0b48dc38c6": {
     "views": []
    },
    "8daf13fc38be4fafa84a987dda61c338": {
     "views": []
    },
    "8e80ccea36ff491a8653dbdb18f4b820": {
     "views": [
      {
       "cell_index": 30
      }
     ]
    },
    "8eff979f26804b909138ab264e1d217f": {
     "views": []
    },
    "8f1ea679436249768302e273f654c64f": {
     "views": []
    },
    "8f70bc7ce65b4bffa39e476d1ffefd22": {
     "views": []
    },
    "8f7746414d9f4339bc94ddefcc24c9ec": {
     "views": []
    },
    "907939c84eca456389efa40a88d991ee": {
     "views": []
    },
    "90b645d094794a0d9544de2572a44eed": {
     "views": []
    },
    "90ee056b40914a14a92aa1409c64f552": {
     "views": []
    },
    "9118d3af2c574eb39b9cfe40c0371e82": {
     "views": []
    },
    "917ca14292df4d07a744931371413662": {
     "views": []
    },
    "91b04e217a2c430d9893792754ae1038": {
     "views": []
    },
    "9230bb69df9d4fa4a10322560e44c0ce": {
     "views": []
    },
    "9314fdd8c1024d10b8cb637019d7a3b6": {
     "views": []
    },
    "9383500a6bf0459d8986d6d981a5a681": {
     "views": []
    },
    "93985b2d9504418d8ecacf4a9ee403b3": {
     "views": []
    },
    "93df571e4f4144679bfdaff3649ffb00": {
     "views": []
    },
    "948215000cb04e18b9b65cff9fe1d09d": {
     "views": []
    },
    "94e55777cb114b02ad8652a733a561cc": {
     "views": []
    },
    "94ecbaec34b141ada3e235f11a395029": {
     "views": []
    },
    "959d3ae60ccd48c489b7f1866acba815": {
     "views": []
    },
    "95fe4bd026a049a1a3807158e62f3364": {
     "views": []
    },
    "96342543954d42cbb391943c5c4bfee6": {
     "views": []
    },
    "964bd4d57a0847b6b519779f891d0ea8": {
     "views": []
    },
    "9676b64037c94a179eaf14cef1b8492f": {
     "views": []
    },
    "96dcb9634f01475cb0ff8f427d32e796": {
     "views": []
    },
    "97cd19fd259f48d283db87f8753aa847": {
     "views": []
    },
    "993c6850294a478182735083682559d3": {
     "views": []
    },
    "9a1376c36a9348aa9e03739364542784": {
     "views": []
    },
    "9ae64cf346054bc387c5ebdddfab5224": {
     "views": []
    },
    "9b07c5ba9a434b2faa7b04e300b075ce": {
     "views": []
    },
    "9b419c404457412094224513911dc744": {
     "views": []
    },
    "9b4f5ce70a7d426184d09ded2ee48239": {
     "views": []
    },
    "9b8195c9a9754699accca95184312440": {
     "views": []
    },
    "9bf3f0a0ade2484aa5d7def2d487daa2": {
     "views": []
    },
    "9cd4da045d594b9293855b07d72f36d6": {
     "views": []
    },
    "9cdb852cbd964d68be521342c7e0ed7d": {
     "views": []
    },
    "9d074df68e424421ad4a476a0179a198": {
     "views": []
    },
    "9da022958d0d494498a0db456299ab23": {
     "views": []
    },
    "9dded9ce3b524865b47ae2bdfc17c054": {
     "views": []
    },
    "9ea6677757144f318bbf3d0f26f275d1": {
     "views": []
    },
    "a01f7a9045aa413eb3746def5ad145c8": {
     "views": []
    },
    "a16876d0b7bd47d1922c943139d67588": {
     "views": []
    },
    "a2072495dff84e349e890c4255e2dfbc": {
     "views": []
    },
    "a2085d37865d4174b6de076eec4f95d9": {
     "views": []
    },
    "a231986eebb146529adfca9ca8cf59b2": {
     "views": []
    },
    "a23548c61a5246f5bd76599115dbcd36": {
     "views": []
    },
    "a3184e097fed48b090d904f41b324c4c": {
     "views": []
    },
    "a3fc9535e8a14e8883b5078236cd3892": {
     "views": []
    },
    "a44a6a46352d43ab8ca7d0d55b189613": {
     "views": []
    },
    "a477790e88c74a6c8cd6eb9220b95338": {
     "views": []
    },
    "a4efa763c8964ede9d0f930b47c207f7": {
     "views": []
    },
    "a5075211196d4927888f5f3ac632489e": {
     "views": []
    },
    "a648f919f5e24fc29538de09bf4df439": {
     "views": []
    },
    "a78a556e7a6940388a1c6e0199ca2946": {
     "views": []
    },
    "a82f46c9dd4b43a09a72e141cd5b270a": {
     "views": []
    },
    "a9333deb42f14ea5835751bbcee2c4b3": {
     "views": []
    },
    "aa2d8af3273d45ebb092f63f1e8c0aaf": {
     "views": []
    },
    "aa435ea99f9f47b684f580fcf21b5bd6": {
     "views": []
    },
    "aae55d41001246da875cbe137f207bcd": {
     "views": []
    },
    "aaed186f58e04e2d9ae21f32bb7ee2d9": {
     "views": []
    },
    "aba84b5297184c668047b043df23eea0": {
     "views": []
    },
    "ac63223e95d84c6ca29e970d153ae716": {
     "views": []
    },
    "ac6498532d414c798960b38f884ae838": {
     "views": []
    },
    "ad4c6bba7bfa414a9d7abe0df432aba0": {
     "views": []
    },
    "ad69981a430147d0a4e8ddc18ea204a8": {
     "views": []
    },
    "adc65440fd3f485183925abc08c4e15a": {
     "views": []
    },
    "aedb68d7ea52418b9dbb3e85326f01e0": {
     "views": []
    },
    "aef98c51e0a7483f820a502db699bfb4": {
     "views": []
    },
    "af1549a072014ef7815d50462cb2214d": {
     "views": []
    },
    "af9a689023064466a76d651f35b26f0d": {
     "views": []
    },
    "afeb2d5f384741fbb999bb8aeb2b917e": {
     "views": []
    },
    "b018dfb20954459da45c6645c65533c2": {
     "views": []
    },
    "b0279ec9921744cdbc88caf595458f60": {
     "views": []
    },
    "b08f8577ce9c415ebe4ef629ad01bca7": {
     "views": []
    },
    "b0961417b185498a9cec5c2d19d95c8a": {
     "views": []
    },
    "b0bc4ca6dce84c04a459d2c35f9e1ec1": {
     "views": []
    },
    "b0d25128964e44ceaf6601445bb64d31": {
     "views": []
    },
    "b0f621b095d545c893d23cf87e0b4781": {
     "views": []
    },
    "b148aff049d64d0eaa1aea0da8171745": {
     "views": []
    },
    "b18adf57bfa440ad9d3bdf65356f1ad6": {
     "views": []
    },
    "b1ad927b859f4a1591f4f2499cdbb6cd": {
     "views": []
    },
    "b2b6393e784a436b83eb6528cda61144": {
     "views": []
    },
    "b2eb74e96d2044a3848b9c9f4e50057b": {
     "views": []
    },
    "b2ed1c6ceb3248098a6ee5f119888f1a": {
     "views": []
    },
    "b30961335bbc4fb5a89f5b3c38f7e9be": {
     "views": []
    },
    "b360ed8ca6834791bf1c15244d8c3868": {
     "views": []
    },
    "b5db12f38493426ba0e7b089028227a1": {
     "views": []
    },
    "b5dfa6f5f9bb4dea96ce21b770643b2e": {
     "views": []
    },
    "b72bb871c0ac40efbcb129f94a7eb1c8": {
     "views": []
    },
    "b7c398867a25405dbf728811556f859f": {
     "views": []
    },
    "b88433ff72bf4d28b1c48d4490401a7a": {
     "views": []
    },
    "b8e8f5ec81e246cdac57b86d6daa06e0": {
     "views": []
    },
    "b900a55ea5074c829a34b0609e33808c": {
     "views": []
    },
    "b926dcafc8be4cf39f7dd294760741f5": {
     "views": []
    },
    "baaed4d9afde481f965d64cb43500325": {
     "views": []
    },
    "bae412015b5e451da2d255f7c27374b2": {
     "views": []
    },
    "bb28d0d30f1f458094ea9ebbdfc73126": {
     "views": []
    },
    "bb5c4a9bbbc94948a2806e712594b9e7": {
     "views": []
    },
    "bb8055f5a77045d69a25b913a2cf03d4": {
     "views": []
    },
    "bb8e670590414b66ae16b41be1f49942": {
     "views": []
    },
    "bbb088b0750940d68313eb895e720194": {
     "views": []
    },
    "bc4bdf1d7dde41cea9db456e9c192ebc": {
     "views": []
    },
    "bc7d14af058545a883d547005096f295": {
     "views": []
    },
    "bd60e47be3c04b229b5a3557dc0f1c81": {
     "views": []
    },
    "bd870e8cb3534f6e90fae912137ebaf2": {
     "views": []
    },
    "be0131732f4546ec97c5f7540b05ad78": {
     "views": []
    },
    "bea4393fe2c7417693e3eacf57ad7640": {
     "views": []
    },
    "bf0c7e2a5eb14fe881254041afdfb582": {
     "views": []
    },
    "bf38bb3c3db648a0b7f92cfaf2f2e8a9": {
     "views": []
    },
    "bf4eb3a38c504d8e84bacf113aa7e0fd": {
     "views": []
    },
    "bf6112ae9ea74d36a8e4e871617abe0b": {
     "views": []
    },
    "c034c1f2f07f4a65b9df6f2e6bfcf9cb": {
     "views": []
    },
    "c04308238c2e45c9a492114455da82cb": {
     "views": []
    },
    "c049badb96f242a892d322c1491fcc2f": {
     "views": []
    },
    "c188073dfecb490a809c9484ecf00fa0": {
     "views": []
    },
    "c1a7eaca1a104f62b3785996850567db": {
     "views": []
    },
    "c1d7a8b267a549308b9af5e907cd2e0f": {
     "views": []
    },
    "c4f7651ee05e4150afd8157e3471cd1d": {
     "views": []
    },
    "c5406a33385447b0bb66de80c67fcced": {
     "views": []
    },
    "c56ba36cbf5e4263a38446aabe950c21": {
     "views": []
    },
    "c5ef93534efe4b0487b7afcd1adf0e1c": {
     "views": []
    },
    "c5fea4b3bbc6456aadc59b1a34bfcf51": {
     "views": []
    },
    "c61f24a1c032477883dd6a0b2422dd60": {
     "views": []
    },
    "c6e5de75241544c8bdd95e430350ee03": {
     "views": []
    },
    "c6f0e5865f484667b49cab8c10681707": {
     "views": []
    },
    "c7d4069a28ab433a9fec42b7d3ce9399": {
     "views": []
    },
    "c8a62097573d47d5ba2d31cfc19a9fc0": {
     "views": []
    },
    "c8eb8c95c53d4615b8f401cf513a1492": {
     "views": []
    },
    "c8f0bd55bcc94cc280c8749b4a518fd8": {
     "views": []
    },
    "c999bad4a4074e0fa3c0c0f6fe208beb": {
     "views": []
    },
    "c9ff02f73c844600ade029d16f117764": {
     "views": []
    },
    "ca3dafa758b141c989d2c509b3d36b6c": {
     "views": []
    },
    "ca5ee17c797d44399e962972c265217f": {
     "views": []
    },
    "caa18c03ece44cbaa6e8321a73b81e58": {
     "views": []
    },
    "cbd22de248f34580adef603b89ee9a60": {
     "views": []
    },
    "cc58d3ca2ab8480abd4c08ce58299970": {
     "views": []
    },
    "cc6302782dd240b097fe203d9e841a6d": {
     "views": []
    },
    "cd1675f4ce2a44278c6a04cea661979d": {
     "views": []
    },
    "cd23b9a4de514369ba82e1be9c5a655e": {
     "views": []
    },
    "cd5908642c224ede9b797f699657e6e5": {
     "views": []
    },
    "cdaddbe9d46c4f35a2bb960ae9c843d5": {
     "views": []
    },
    "ce121ad7f0944d84ad06248becbba0ac": {
     "views": []
    },
    "cec262f6c36a4343ab13ca9f7512cd94": {
     "views": []
    },
    "cff93c6d8d604d88baf14d890b327af8": {
     "views": []
    },
    "d01a44608b7c44f7b3da90de6cde1023": {
     "views": []
    },
    "d32c760b7ab248ff97779333468f4022": {
     "views": []
    },
    "d3f067c9a9674f18a3ca7aee7fa0e49e": {
     "views": []
    },
    "d4110dcebcab4de3a6b634a03da39ce3": {
     "views": []
    },
    "d449c3b3be904d4b992af612114489ae": {
     "views": []
    },
    "d4712923e0194c78b2a7589923086bec": {
     "views": []
    },
    "d4cb04da92b64ce29747eb218926e354": {
     "views": []
    },
    "d4eaddddca1e43e2a17c26377dbafb74": {
     "views": []
    },
    "d535ca46bfef43a8957564f7e6f0bfe2": {
     "views": []
    },
    "d5f1e28ccc244b43844996c3f8a44f9c": {
     "views": []
    },
    "d675a20a9f064c9c8409691f70b46722": {
     "views": []
    },
    "d70d101f8b5b480895b5d344c1cccc4b": {
     "views": []
    },
    "d74ca54f1f4245ac992a5191648ebc23": {
     "views": []
    },
    "d74e32733fb84c2e8a2af9dbc77e7dd7": {
     "views": []
    },
    "d7a69edd153c48d998f8f5faee75e2cc": {
     "views": []
    },
    "d7b489a37ee44270b99a001525cfddb3": {
     "views": []
    },
    "d7b4983238534a4faa71200f7953a15a": {
     "views": []
    },
    "d7cd6b614f554df78d74ea8f7a07d199": {
     "views": []
    },
    "da3ab85fb8c7424586013312d1555e95": {
     "views": []
    },
    "da8f6d2cacff4138a8cabfd488a75dc6": {
     "views": []
    },
    "dd1da3d9781b476fa59f959b16c638b1": {
     "views": []
    },
    "dd2af3aa27d244509edcd07838eae032": {
     "views": []
    },
    "dd9306869a664b7290cc52841011d8c7": {
     "views": []
    },
    "de03e629f3d24354987fdadca7074434": {
     "views": []
    },
    "de106c2e11dd44e09c93be2cd612294d": {
     "views": []
    },
    "de183dec82724f7c98e211035955de30": {
     "views": []
    },
    "dedd5104b5fa47ff9b5999e0fc25f9b7": {
     "views": []
    },
    "df29ffcab03644f08aec8babe0841204": {
     "views": []
    },
    "df37c2ba12ef49ceae0316b20fc08c33": {
     "views": []
    },
    "df68f88ed8df491fa7add6f12933dcdd": {
     "views": []
    },
    "dfbafd3665c7416180d9905babaf587b": {
     "views": []
    },
    "e01f611bfaab422dbfe8f7dc3c22f18a": {
     "views": []
    },
    "e068f6ffd3834f69907ad18a0de59cd0": {
     "views": []
    },
    "e16b1f001ec34952bc1299754a0d3afc": {
     "views": []
    },
    "e18f8422d4c546d7b739835c29e2fc62": {
     "views": []
    },
    "e2808936ff1746fd9b01bba8749a85b2": {
     "views": []
    },
    "e3022403c5f84166a8fdf3df89e3664e": {
     "views": []
    },
    "e543e62ac45a4a64baa1baeb6f9c98dc": {
     "views": []
    },
    "e56dde3633304290bcff1ecf745d0387": {
     "views": []
    },
    "e5da61cafdbc4fc49745cfca6057253f": {
     "views": []
    },
    "e68e67b74faf40f888ea62556698da47": {
     "views": []
    },
    "e70ed5cfaf494ded855161ed59db198a": {
     "views": []
    },
    "e7640fda71cf4011a59cc19c2674fbe1": {
     "views": []
    },
    "e875f23a8b634f89a1f151179df75e69": {
     "views": []
    },
    "e8e96bc24fc34314bc4609af27f748a1": {
     "views": []
    },
    "e91ac660582a4e10be234beb82282561": {
     "views": []
    },
    "e926b4bf9bf6472898e06cb81fd9dc6d": {
     "views": []
    },
    "e9d60b65bd5040e591793745fea44c0d": {
     "views": []
    },
    "ea2c3a3bf5674707bf539dcaab275a31": {
     "views": []
    },
    "ea948fb0473b455ea7475bda095941ce": {
     "views": []
    },
    "eabe2cba19294ef39bbe53b0f0eea913": {
     "views": []
    },
    "eac805e2f3784dbf9bf365800fef3d6d": {
     "views": []
    },
    "eae113ff9adf4857b350ca9c56e27886": {
     "views": []
    },
    "ec4d33bc8df94311b76eba879a4ff444": {
     "views": []
    },
    "ecad95422953415c8bf95d78f30142e5": {
     "views": []
    },
    "ed000dc130434e45a78bde0c81b64379": {
     "views": []
    },
    "ed1972a3104e49d0a954748a6425b699": {
     "views": []
    },
    "ed41c3fd286c417886b869b073ee4cf6": {
     "views": []
    },
    "ed82f12edfec4d928766cecd8b8ced51": {
     "views": []
    },
    "ed91cd987bea42a1a2cd74dd018e6989": {
     "views": []
    },
    "ee0a80d209374756a54a4edb5a15e13a": {
     "views": []
    },
    "ee2e520605e74cf78d07d60303191ca2": {
     "views": []
    },
    "ee39a759fda449eb8ea1f54724cc50d4": {
     "views": []
    },
    "ee9b1ea91dc14d2e893ec1423c822147": {
     "views": []
    },
    "eecc0e1f009d4ba6b3e03deeca54fbd1": {
     "views": []
    },
    "eed70236366e4a73b18192a70b0b08d7": {
     "views": []
    },
    "ef6c0487380345fb873ef1cea0a08a92": {
     "views": []
    },
    "ef825075b5194971a6a15154806daf46": {
     "views": []
    },
    "ef90de594d8840299a1ee4105caa2f6b": {
     "views": []
    },
    "efcbc3c911e9466ebf7881fff5c52ab0": {
     "views": []
    },
    "efcc169a9b5041828c810515ef567d09": {
     "views": []
    },
    "f0371bfaf0914512ba4259eee34dcfc4": {
     "views": []
    },
    "f048680d90cc43e6911ab94474dab697": {
     "views": []
    },
    "f0ba8a504dfa429c952876ed9c1207a1": {
     "views": []
    },
    "f0d3082d39de4712b04c0e088dda349e": {
     "views": []
    },
    "f16ce5f77dbb492fa99dac054a5e4c5a": {
     "views": []
    },
    "f2487b325feb4bff8ecede3db6000349": {
     "views": []
    },
    "f4aaf03033804515828adae949371f04": {
     "views": []
    },
    "f579379a28264d4e90075071ac792479": {
     "views": []
    },
    "f580300b77214ce8924110d6da44ca0f": {
     "views": []
    },
    "f5bfe897c69e456c97b64216b4131324": {
     "views": []
    },
    "f5cb0ffeaa2b42a9b75b67cca0fc1463": {
     "views": []
    },
    "f5ea8a77b7bb451a972399c4ddff256f": {
     "views": []
    },
    "f647191036bc428f85c2221e3f656dec": {
     "views": []
    },
    "f67dc29c5113415cbea03ef8b3118c37": {
     "views": []
    },
    "f6b60dcfc6f8404c9dc22ae35169dcb8": {
     "views": []
    },
    "f73afbfe136f402d89069fac5a8afe79": {
     "views": []
    },
    "f74337fd5a604e29933371671cd73959": {
     "views": []
    },
    "f74af2b3c748462685906198ea100daf": {
     "views": []
    },
    "f77842dafb724e54be116b2ad179af1b": {
     "views": []
    },
    "f7f3ac219dca4472a1ec333dc852010b": {
     "views": []
    },
    "f813079467aa43a9b0be4f683adff02f": {
     "views": []
    },
    "f84dd04581ca413ab2fb31f09b7632c5": {
     "views": []
    },
    "f86fc8e37e8b44e9b81ad97f252f8d86": {
     "views": []
    },
    "f9440dadd0944cfbbac53ff2db8648c3": {
     "views": []
    },
    "fa92e6d3eeae4c71968182f862ec23c0": {
     "views": []
    },
    "fab2979f44024bc38426be8ac1a10e9d": {
     "views": []
    },
    "fb64f01023e041139242d8d0f059d7a5": {
     "views": []
    },
    "fb8053bdce5f4b9aaa277d9099e7fdd9": {
     "views": []
    },
    "fc5f31089ba24cd48ceaa5f5b7f3f4a5": {
     "views": []
    },
    "fd28272a2b9e4e79bfd8ef83de3851fd": {
     "views": []
    },
    "fd7b65b243c945ce8da329b39cd8f291": {
     "views": []
    },
    "fdd8976ddbb648d6aa5e701efe75b0e0": {
     "views": []
    },
    "fe181032dd464f75b7e79bf4619e82d2": {
     "views": []
    },
    "fe498d20409d48d1be3480b2a7424d61": {
     "views": []
    },
    "fe5fd820dfe64d55b4cb083d2d8f6459": {
     "views": []
    }
   },
   "version": "1.1.2"
  }
 },
 "nbformat": 4,
 "nbformat_minor": 2
}
