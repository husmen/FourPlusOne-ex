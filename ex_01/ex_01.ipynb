{
 "cells": [
  {
   "cell_type": "code",
   "execution_count": 5,
   "metadata": {},
   "outputs": [
    {
     "data": {
      "text/plain": [
       "True"
      ]
     },
     "execution_count": 5,
     "metadata": {},
     "output_type": "execute_result"
    }
   ],
   "source": [
    "# works with both python 2 & 3\n",
    "import cv2\n",
    "\n",
    "# paths for submission\n",
    "#img_path = '/00001.jpg'\n",
    "#img_save_path = '/00001_gray.jpg'\n",
    "\n",
    "# paths for local testing\n",
    "img_path = '00001.jpg'\n",
    "img_save_path = '00001_gray.jpg'\n",
    "\n",
    "# open image\n",
    "img = cv2.imread(img_path)\n",
    "\n",
    "# get image's height & width\n",
    "height, width = img.shape[:2]\n",
    "\n",
    "# crop the 2 sides\n",
    "img_left = img[int(0):int(height) , int(0):int(width * .5)]\n",
    "img_right = img[int(0):int(height) , int(width * .5):int(width)]\n",
    "\n",
    "# grayscale\n",
    "img_grey = cv2.cvtColor(img_left, cv2.COLOR_BGR2GRAY)\n",
    "\n",
    "# add text\n",
    "cv2.putText(img_grey, \"Houssem MENHOUR\", (30,40), \n",
    "    cv2.FONT_HERSHEY_SIMPLEX, 1, (255,255,255), 2)\n",
    "\n",
    "# save new image\n",
    "cv2.imwrite(img_save_path,img_grey)\n",
    "\n",
    "# display image\n",
    "#cv2.imshow('Result',img_grey)\n",
    "#cv2.waitKey(0)\n",
    "#cv2.destroyAllWindows()\n"
   ]
  }
 ],
 "metadata": {
  "kernelspec": {
   "display_name": "Python 2",
   "language": "python",
   "name": "python2"
  },
  "language_info": {
   "codemirror_mode": {
    "name": "ipython",
    "version": 2
   },
   "file_extension": ".py",
   "mimetype": "text/x-python",
   "name": "python",
   "nbconvert_exporter": "python",
   "pygments_lexer": "ipython2",
   "version": "2.7.12"
  }
 },
 "nbformat": 4,
 "nbformat_minor": 2
}
